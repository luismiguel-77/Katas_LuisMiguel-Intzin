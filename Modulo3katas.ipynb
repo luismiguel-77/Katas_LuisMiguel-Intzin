{
 "cells": [
  {
   "cell_type": "markdown",
   "metadata": {},
   "source": [
    "## Ejercicio - Escribir declaraciones if, else, y elif\n",
    "Las instrucciones If te permiten ejecutar condicionalmente código Python. Se usan comúnmente en Python para \"tomar decisiones\" sobre lo que debería suceder a continuación mientras se ejecuta un programa.\n",
    "\n",
    "Para crear una instrucción if en Python, define una expresión de prueba que pueda tener un valor True o False, seguido de un bloque de código con sangría que se ejecutará si se cumple la condición."
   ]
  },
  {
   "cell_type": "code",
   "execution_count": 5,
   "metadata": {},
   "outputs": [
    {
     "name": "stdout",
     "output_type": "stream",
     "text": [
      "No es menor a 100 \n",
      "El numero es:  20\n"
     ]
    }
   ],
   "source": [
    "expresion_prueba = 20\n",
    "if expresion_prueba <= 100:\n",
    "    # instruccion(es)  a ejecutar\n",
    "    print(\"No es menor a 100 \\nEl numero es: \", expresion_prueba)"
   ]
  },
  {
   "cell_type": "markdown",
   "metadata": {},
   "source": [
    "Para escribir un programa con una lógica condicional más compleja, puedes agregar instrucciones else y elif al bloque de código. También puedes anidar instrucciones condicionales."
   ]
  },
  {
   "cell_type": "code",
   "execution_count": 3,
   "metadata": {},
   "outputs": [
    {
     "name": "stdout",
     "output_type": "stream",
     "text": [
      "Encender\n"
     ]
    }
   ],
   "source": [
    "carro = \"encender\"\n",
    "persona = \"llave\"\n",
    "if carro == \"encender\":\n",
    "    gasolina = \"Si\"\n",
    "    if gasolina == \"Si\":\n",
    "        print (\"Encender\")\n",
    "    else:\n",
    "        print(\"Verificar la vateria\")\n",
    "elif persona == \"llave\":\n",
    "    print(\"No es la llave\")\n",
    "else:\n",
    "    print(\"No tiene vateria\")\n"
   ]
  },
  {
   "cell_type": "markdown",
   "metadata": {},
   "source": [
    "TIP Dedica unos minutos a tratar de encontrar una solución. Luego desplázate hacia abajo hasta la parte inferior para ver si has logrado compilar el programa de acuerdo con las especificaciones\n",
    "\n",
    "\n",
    "Para este ejercicio, escribirás una lógica condicional que imprima una advertencia si un asteroide se acerca a la Tierra demasiado rápido. La velocidad del asteroide varía dependiendo de lo cerca que esté del sol, y cualquier velocidad superior a 25 kilómetros por segundo (km/s) merece una advertencia.\n",
    "\n",
    "Un asteroide se acerca, y viaja a una velocidad de 49 km/s."
   ]
  },
  {
   "cell_type": "code",
   "execution_count": 5,
   "metadata": {},
   "outputs": [
    {
     "name": "stdout",
     "output_type": "stream",
     "text": [
      "Hay un meteorito que te vaá matar !! Corre !!\n"
     ]
    }
   ],
   "source": [
    "velocidad_S = 49\n",
    "if velocidad_S > 25:\n",
    "    print(\"Hay un meteorito que te vaá matar !! Corre !!\")\n",
    "else:\n",
    "    print(\"No hay problema superman te va a salvar, la velocidad del asteroide es: \", velocidad_S)"
   ]
  },
  {
   "cell_type": "markdown",
   "metadata": {},
   "source": [
    "Si un asteroide entra en la atmósfera de la Tierra a una velocidad mayor o igual a 20 km/s, a veces produce un rayo de luz que se puede ver desde la Tierra. Escribe la lógica condicional que usa declaraciones if, else, y elif para alertar a las personas de todo el mundo que deben buscar un asteroide en el cielo. ¡Hay uno que se dirige a la tierra ahora a una velocidad de 19 km/s!"
   ]
  },
  {
   "cell_type": "code",
   "execution_count": 11,
   "metadata": {},
   "outputs": [
    {
     "name": "stdout",
     "output_type": "stream",
     "text": [
      "Va pasar un destello de un asteroide. \n"
     ]
    }
   ],
   "source": [
    "asteroide = 20\n",
    "if asteroide < 20:\n",
    "    print(\"puedes salir a ver el asteroide que va a una velocidad de: \", asteroide)\n",
    "elif asteroide >= 20:\n",
    "        print(\"Va pasar un destello de un asteroide. \")\n",
    "else:\n",
    "    print(\"Que hermoso atardecer\")\n"
   ]
  }
 ],
 "metadata": {
  "interpreter": {
   "hash": "4f0f0e13268034360b5dc852d874d2c197b0ca1f534b51923b7d742bc93fc3f4"
  },
  "kernelspec": {
   "display_name": "Python 3.9.5 64-bit",
   "language": "python",
   "name": "python3"
  },
  "language_info": {
   "codemirror_mode": {
    "name": "ipython",
    "version": 3
   },
   "file_extension": ".py",
   "mimetype": "text/x-python",
   "name": "python",
   "nbconvert_exporter": "python",
   "pygments_lexer": "ipython3",
   "version": "3.9.5"
  },
  "orig_nbformat": 4
 },
 "nbformat": 4,
 "nbformat_minor": 2
}
