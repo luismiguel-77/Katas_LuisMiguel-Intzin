{
 "cells": [
  {
   "cell_type": "markdown",
   "metadata": {},
   "source": [
    "## Ejercicio - Crear un paquete\n",
    "En este ejercicio, aprenderás a utilizar entornos virtuales de una forma para no efectuar a los paquetes instalados globalmente u otros programas que se ejecutan en tu máquina.\n",
    "\n",
    "Para este ejercicio es necesario que lo ejecutes desde la terminal, linea de comandos, cmd, consola, cli, etc. de tu computadora, sé que es desafiante, pero no te preocupes ¡¡ Sé que puedes lograrlo !!"
   ]
  },
  {
   "cell_type": "markdown",
   "metadata": {},
   "source": [
    "# Crear un entorno virtual\n",
    "crear un entorno virtual mediante venv\n",
    "- Ejecutar en su terminal: python3 -m venv env"
   ]
  },
  {
   "cell_type": "code",
   "execution_count": 9,
   "metadata": {},
   "outputs": [
    {
     "ename": "SyntaxError",
     "evalue": "invalid syntax (2490195746.py, line 1)",
     "output_type": "error",
     "traceback": [
      "\u001b[1;36m  Input \u001b[1;32mIn [9]\u001b[1;36m\u001b[0m\n\u001b[1;33m    python3 -m venv env\u001b[0m\n\u001b[1;37m               ^\u001b[0m\n\u001b[1;31mSyntaxError\u001b[0m\u001b[1;31m:\u001b[0m invalid syntax\n"
     ]
    }
   ],
   "source": [
    "python3 -m venv env"
   ]
  },
  {
   "cell_type": "markdown",
   "metadata": {},
   "source": [
    "Ahora tienes un directorio (folder) env creado en tu terminal\n",
    "\n",
    "- ejecuta el comando para activar el entoro virtual: source env/bin/activate"
   ]
  },
  {
   "cell_type": "code",
   "execution_count": 10,
   "metadata": {},
   "outputs": [
    {
     "ename": "SyntaxError",
     "evalue": "invalid syntax (2054400975.py, line 4)",
     "output_type": "error",
     "traceback": [
      "\u001b[1;36m  Input \u001b[1;32mIn [10]\u001b[1;36m\u001b[0m\n\u001b[1;33m    source env\\bin\\activate\u001b[0m\n\u001b[1;37m           ^\u001b[0m\n\u001b[1;31mSyntaxError\u001b[0m\u001b[1;31m:\u001b[0m invalid syntax\n"
     ]
    }
   ],
   "source": [
    "#source env/bin/activate\n",
    "# Windows\n",
    "source env\\bin\\activate\n",
    "\n",
    "# Linux, WSL or macOS\n",
    "#source env/bin/activate"
   ]
  }
 ],
 "metadata": {
  "interpreter": {
   "hash": "4f0f0e13268034360b5dc852d874d2c197b0ca1f534b51923b7d742bc93fc3f4"
  },
  "kernelspec": {
   "display_name": "Python 3.9.5 64-bit",
   "language": "python",
   "name": "python3"
  },
  "language_info": {
   "codemirror_mode": {
    "name": "ipython",
    "version": 3
   },
   "file_extension": ".py",
   "mimetype": "text/x-python",
   "name": "python",
   "nbconvert_exporter": "python",
   "pygments_lexer": "ipython3",
   "version": "3.9.5"
  },
  "orig_nbformat": 4
 },
 "nbformat": 4,
 "nbformat_minor": 2
}
